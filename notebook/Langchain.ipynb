{
 "cells": [
  {
   "cell_type": "code",
   "execution_count": 9,
   "id": "63158c5c",
   "metadata": {},
   "outputs": [
    {
     "name": "stderr",
     "output_type": "stream",
     "text": [
      "326.66s - pydevd: Sending message related to process being replaced timed-out after 5 seconds\n"
     ]
    },
    {
     "name": "stdout",
     "output_type": "stream",
     "text": [
      "Defaulting to user installation because normal site-packages is not writeable\n",
      "Requirement already satisfied: openai in /mnt/nfs/homes/ychibani/.local/lib/python3.10/site-packages (1.30.1)\n",
      "Requirement already satisfied: tqdm>4 in /usr/lib/python3/dist-packages (from openai) (4.57.0)\n",
      "Requirement already satisfied: pydantic<3,>=1.9.0 in /mnt/nfs/homes/ychibani/.local/lib/python3.10/site-packages (from openai) (1.10.15)\n",
      "Requirement already satisfied: distro<2,>=1.7.0 in /usr/lib/python3/dist-packages (from openai) (1.7.0)\n",
      "Requirement already satisfied: httpx<1,>=0.23.0 in /mnt/nfs/homes/ychibani/.local/lib/python3.10/site-packages (from openai) (0.27.0)\n",
      "Requirement already satisfied: anyio<5,>=3.5.0 in /mnt/nfs/homes/ychibani/.local/lib/python3.10/site-packages (from openai) (4.3.0)\n",
      "Requirement already satisfied: sniffio in /mnt/nfs/homes/ychibani/.local/lib/python3.10/site-packages (from openai) (1.3.1)\n",
      "Requirement already satisfied: typing-extensions<5,>=4.7 in /mnt/nfs/homes/ychibani/.local/lib/python3.10/site-packages (from openai) (4.12.0)\n",
      "Requirement already satisfied: exceptiongroup>=1.0.2 in /mnt/nfs/homes/ychibani/.local/lib/python3.10/site-packages (from anyio<5,>=3.5.0->openai) (1.2.0)\n",
      "Requirement already satisfied: idna>=2.8 in /usr/lib/python3/dist-packages (from anyio<5,>=3.5.0->openai) (3.3)\n",
      "Requirement already satisfied: certifi in /usr/lib/python3/dist-packages (from httpx<1,>=0.23.0->openai) (2020.6.20)\n",
      "Requirement already satisfied: httpcore==1.* in /mnt/nfs/homes/ychibani/.local/lib/python3.10/site-packages (from httpx<1,>=0.23.0->openai) (1.0.5)\n",
      "Requirement already satisfied: h11<0.15,>=0.13 in /mnt/nfs/homes/ychibani/.local/lib/python3.10/site-packages (from httpcore==1.*->httpx<1,>=0.23.0->openai) (0.14.0)\n"
     ]
    },
    {
     "name": "stderr",
     "output_type": "stream",
     "text": [
      "333.72s - pydevd: Sending message related to process being replaced timed-out after 5 seconds\n"
     ]
    },
    {
     "name": "stdout",
     "output_type": "stream",
     "text": [
      "Defaulting to user installation because normal site-packages is not writeable\n",
      "Requirement already satisfied: python-dotenv in /usr/lib/python3/dist-packages (0.19.2)\n"
     ]
    }
   ],
   "source": [
    "#install openAI\n",
    "\n",
    "!pip install openai\n",
    "!pip install python-dotenv"
   ]
  },
  {
   "cell_type": "code",
   "execution_count": 10,
   "id": "3da30e4f",
   "metadata": {},
   "outputs": [],
   "source": [
    "import os\n",
    "import openai\n",
    "\n",
    "from dotenv import load_dotenv, find_dotenv\n",
    "_ = load_dotenv(find_dotenv())\n",
    "openai.api_key = os.environ['PPLX_API_KEY']"
   ]
  },
  {
   "cell_type": "code",
   "execution_count": null,
   "id": "cfe6ee13",
   "metadata": {},
   "outputs": [],
   "source": [
    "print(openai.api_key)"
   ]
  },
  {
   "cell_type": "code",
   "execution_count": 31,
   "id": "40980814",
   "metadata": {},
   "outputs": [
    {
     "name": "stdout",
     "output_type": "stream",
     "text": [
      "The number of stars in the universe is a fascinating topic that has captured the imagination of people for centuries. Astronomers have made various estimates based on observations and calculations. Here's a summary of the estimates from different sources:\n",
      "\n",
      "- **Robert Kaplinsky**: The universe is estimated to have around 400 billion galaxies, with each galaxy containing approximately 100 billion stars. This results in a total of 40 sextillion stars (40,000,000,000,000,000,000,000).\n",
      "- **European Space Agency**: The estimate ranges from 10^22 to 10^24 stars in the universe, which is a rough calculation based on the number of galaxies and stars in each galaxy.\n",
      "- **Space.com**: The number of stars in the universe is estimated to be around 1 septillion (1,000,000,000,000,000,000,000,000), based on the assumption that there are about 100 billion stars in the Milky Way and approximately 10 trillion galaxies in the observable universe.\n",
      "- **Little Passports**: The estimated number of stars in the universe is around 200 billion trillion stars, assuming each galaxy has about as many stars as the Milky Way (100 billion) and there are approximately 2 trillion galaxies in the observable universe.\n",
      "- **Astronomy.com**: The estimated number of stars in the universe is also around 200 billion trillion stars, which is an absolutely astounding number.\n",
      "\n",
      "These estimates vary due to the complexities of counting stars and galaxies, but they all suggest that the number of stars in the universe is incredibly vast and almost incomprehensible.\n"
     ]
    }
   ],
   "source": [
    "\n",
    "from openai import OpenAI\n",
    "\n",
    "YOUR_API_KEY = os.environ['PPLX_API_KEY'] \n",
    "\n",
    "messages = [\n",
    "    {\n",
    "        \"role\": \"system\",\n",
    "        \"content\": (\n",
    "            \"You are an artificial intelligence assistant and you need to \"\n",
    "            \"engage in a helpful, detailed, polite conversation with a user.\"\n",
    "        ),\n",
    "    },\n",
    "    {\n",
    "        \"role\": \"user\",\n",
    "        \"content\": (\n",
    "            \"How many stars are in the universe?\"\n",
    "        ),\n",
    "    },\n",
    "]\n",
    "\n",
    "client = OpenAI(api_key=YOUR_API_KEY, base_url=\"https://api.perplexity.ai\")\n",
    "\n",
    "# chat completion without streaming\n",
    "response = client.chat.completions.create(\n",
    "    model=\"llama-3-sonar-large-32k-online\",\n",
    "    messages=messages,\n",
    ")\n",
    "\n",
    "print(response.choices[0].message.content)"
   ]
  },
  {
   "cell_type": "code",
   "execution_count": null,
   "id": "cce6a125",
   "metadata": {},
   "outputs": [],
   "source": []
  }
 ],
 "metadata": {
  "kernelspec": {
   "display_name": "Python 3 (ipykernel)",
   "language": "python",
   "name": "python3"
  },
  "language_info": {
   "codemirror_mode": {
    "name": "ipython",
    "version": 3
   },
   "file_extension": ".py",
   "mimetype": "text/x-python",
   "name": "python",
   "nbconvert_exporter": "python",
   "pygments_lexer": "ipython3",
   "version": "3.10.13"
  }
 },
 "nbformat": 4,
 "nbformat_minor": 5
}
